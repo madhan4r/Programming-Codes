{
  "cells": [
    {
      "cell_type": "code",
      "execution_count": null,
      "metadata": {
        "id": "2rIf_2sEX_5x"
      },
      "outputs": [],
      "source": [
        "# 1\n",
        "# be careful with indentation\n",
        "if 1>10:\n",
        "  print('[str]')\n",
        "print('--str--')"
      ]
    },
    {
      "cell_type": "code",
      "execution_count": null,
      "metadata": {
        "id": "FKE4VKe7YMdy"
      },
      "outputs": [],
      "source": [
        "# 2\n",
        "#  Using if else and elif\n",
        "i = input('Enter the number:')\n",
        "i = int(i) \n",
        "if i>0:\n",
        "  print('positive(+) integer.')\n",
        "elif i<0:\n",
        "  print('negative(-) integer.')\n",
        "else:\n",
        "  print('neutral(0).')"
      ]
    },
    {
      "cell_type": "code",
      "execution_count": null,
      "metadata": {
        "id": "TyYEvgWYYOcR"
      },
      "outputs": [],
      "source": [
        "# 3\n",
        "#  Using 'in'\n",
        "\n",
        "# with str\n",
        "print('str' in 'string') # returns boolean result\n",
        "print('str' in 'String') # case sensitive\n",
        "print('Str' in 'string')"
      ]
    },
    {
      "cell_type": "code",
      "execution_count": null,
      "metadata": {
        "id": "6JN2k3HyYPLZ"
      },
      "outputs": [],
      "source": [
        "# 4\n",
        "# with list\n",
        "\n",
        "my_list=['a','b','c','d','e']\n",
        "print('a' in my_list)"
      ]
    },
    {
      "cell_type": "code",
      "execution_count": null,
      "metadata": {
        "id": "lqbZrvC9YRXj"
      },
      "outputs": [],
      "source": [
        "# 5\n",
        "# with set\n",
        "\n",
        "my_set={1,2,3,4,5}\n",
        "print(3 in my_set)"
      ]
    },
    {
      "cell_type": "code",
      "execution_count": null,
      "metadata": {
        "id": "tTBC5T3nYTQ1"
      },
      "outputs": [],
      "source": [
        "# 6\n",
        "# with tuple\n",
        "\n",
        "my_tuple=(0,1,2,3,4)\n",
        "print(0 in my_tuple)"
      ]
    },
    {
      "cell_type": "code",
      "execution_count": null,
      "metadata": {
        "id": "UYpJmOcaYWWm"
      },
      "outputs": [],
      "source": [
        "# 7\n",
        "# with dict\n",
        "\n",
        "my_dict={\n",
        "         'a':1,\n",
        "         'b':2,\n",
        "         'c':3,\n",
        "         'd':4,\n",
        "         'e':5\n",
        "         }\n",
        "print('c' in my_dict.keys())\n",
        "print(3 in my_dict.values())"
      ]
    },
    {
      "cell_type": "code",
      "execution_count": null,
      "metadata": {
        "id": "zUB8Pp08YXFb"
      },
      "outputs": [],
      "source": [
        "# 8\n",
        "#  using while loop in its simplest form\n",
        "x=0\n",
        "while x<5:\n",
        "  print(x)\n",
        "  # x=+1 is wrong\n",
        "  x +=1"
      ]
    },
    {
      "cell_type": "code",
      "execution_count": null,
      "metadata": {
        "id": "bA7J0SL4YYw3"
      },
      "outputs": [],
      "source": [
        "# 9\n",
        "# 'else clause with while\n",
        "x=0\n",
        "while x>5: # if the condition is never met\n",
        "  print(x)\n",
        "  x +=1\n",
        "else:\n",
        "  print('Oops!')"
      ]
    },
    {
      "cell_type": "code",
      "execution_count": null,
      "metadata": {
        "id": "hj6xBHoqYanc"
      },
      "outputs": [],
      "source": [
        "# 10\n",
        "#  Using 'break'\n",
        "x = 0\n",
        "while x < 100:\n",
        "  print(x)\n",
        "  x+=1\n",
        "  if x==5:\n",
        "    print('No 5 founded')\n",
        "    break\n",
        "print('looping done')\n",
        "\n",
        "print('appart from the loop')"
      ]
    },
    {
      "cell_type": "code",
      "execution_count": null,
      "metadata": {
        "id": "wJfLuyCPYcTI"
      },
      "outputs": [],
      "source": [
        "# 11\n",
        "# Using 'continue' to skip the rest of loop body\n",
        "x = 0\n",
        "while x < 5:\n",
        "  x+=1\n",
        "  if x == 3:\n",
        "    continue\n",
        "  print(x)\n",
        "  "
      ]
    },
    {
      "cell_type": "code",
      "execution_count": null,
      "metadata": {
        "id": "Y_DQXQXsYeed"
      },
      "outputs": [],
      "source": [
        "# 12\n",
        "# Using 'pass' to do nothing\n",
        "x = 0\n",
        "while x<5:\n",
        "  x+=1\n",
        "  if x == 3:\n",
        "    pass\n",
        "    # you need a block here\n",
        "    # so if you have nothing to do,\n",
        "    # just type 'pass' \n",
        "  print(x)\n"
      ]
    },
    {
      "cell_type": "code",
      "execution_count": null,
      "metadata": {
        "colab": {
          "base_uri": "https://localhost:8080/"
        },
        "id": "KnXKjhUpYhnX",
        "outputId": "16389214-a512-4707-e0fe-5b1171378245"
      },
      "outputs": [],
      "source": [
        "# 13\n",
        "# Using range\n",
        "my_range= range(1,5)\n",
        "print(str(my_range))\n",
        "print(type(my_range))\n",
        "for i in my_range:\n",
        "  print(i)"
      ]
    },
    {
      "cell_type": "code",
      "execution_count": null,
      "metadata": {
        "colab": {
          "base_uri": "https://localhost:8080/"
        },
        "id": "OFp5fzc5Yp8Y",
        "outputId": "37dfa72c-bdcd-4970-8906-76b0a8f19a03"
      },
      "outputs": [],
      "source": [
        "# 14\n",
        "# Find the sum of all numbers below 1000, which are multiple by 3 or by 5.\n",
        "sum = 0\n",
        "for n in range(1,1000):\n",
        "    if not(n%3) or not(n%5):\n",
        "      sum+=n\n",
        "print('sum = ',sum)\n"
      ]
    },
    {
      "cell_type": "code",
      "execution_count": null,
      "metadata": {
        "colab": {
          "base_uri": "https://localhost:8080/"
        },
        "id": "awfFylTYZWR8",
        "outputId": "bccb72d5-bd41-4848-e73f-3324b2ed4c38"
      },
      "outputs": [],
      "source": [
        "# 15\n",
        "# Counting backwards\n",
        "for x in range(10, 5, 1):  #(last,starts with,reduce)\n",
        "  print(x)\n"
      ]
    },
    {
      "cell_type": "code",
      "execution_count": null,
      "metadata": {
        "colab": {
          "base_uri": "https://localhost:8080/"
        },
        "id": "k-v1ssmQZ21Q",
        "outputId": "685b4bd9-6886-48fe-a4ea-64539d8c1708"
      },
      "outputs": [],
      "source": [
        "# 16\n",
        "name = 'Coder'\n",
        "name2 = 'John'\n",
        "# Using string formatting\n",
        "# concadination method\n",
        "print('hello,'+name+'(1)')\n",
        "\n",
        "# below is applicable only one obj\n",
        "\n",
        "print('hello,',name)\n",
        "\n",
        "# Using f'str' or string interpolation\n",
        "print(f'hello,{name} using interpolation')\n",
        "\n",
        "# Old style\n",
        "print('hello, %s'% name + '(3)')\n",
        "\n",
        "# New Style\n",
        "print('Hello,{} ({})'.format(name,str(4)))\n",
        "\n",
        "# Printing more then one args\n",
        "\n",
        "# old way\n",
        "print('hello,%s and % s' % (name,name2))\n",
        "\n",
        "# new way\n",
        "print('hello,{} and {}'.format(name,name2))"
      ]
    },
    {
      "cell_type": "code",
      "execution_count": null,
      "metadata": {
        "colab": {
          "base_uri": "https://localhost:8080/"
        },
        "id": "R4pOg1n5ccmE",
        "outputId": "b4c33c78-b0bd-4952-ea75-3157d7792ca6"
      },
      "outputs": [],
      "source": [
        "# 17\n",
        "# when the new style of string\n",
        "# formatting can be very handy\n",
        "\n",
        "a,b = 10,20\n",
        "print('a+b=b+a')\n",
        "print('{0}+{1}={1}+{0}'.format(\n",
        "    a,b\n",
        "    )\n",
        ")\n",
        "# {0} is replaced with a\n",
        "# {1} is replaced with b\n",
        "# but you only mention them once"
      ]
    },
    {
      "cell_type": "code",
      "execution_count": null,
      "metadata": {
        "colab": {
          "base_uri": "https://localhost:8080/"
        },
        "id": "U9qitpD1hjM4",
        "outputId": "fb46dd46-6539-4b48-884e-8ec7dd5456d2"
      },
      "outputs": [],
      "source": [
        "# 18\n",
        "# Examining the third parameter of range()\n",
        "r = range(1,10,2)\n",
        "#       ^ 2 is a step\n",
        "# let's convert into the list and print that\n",
        "a = list(r)\n",
        "print(a)\n",
        "# Every second value will be printed"
      ]
    },
    {
      "cell_type": "code",
      "execution_count": null,
      "metadata": {
        "colab": {
          "base_uri": "https://localhost:8080/"
        },
        "id": "QZc5_C7AngpG",
        "outputId": "77c9c93b-4af8-4f73-fbda-aba6346aa728"
      },
      "outputs": [],
      "source": [
        "# 19\n",
        "# an example of using format\n",
        "# with named args\n",
        "\n",
        "# eg: first & last name\n",
        "first_name = 'James'\n",
        "last_name= 'Bond'\n",
        "greeting='My name is {last}. {first} {last}'.format(\n",
        "    first=first_name,\n",
        "    last=last_name\n",
        "    )\n",
        "print(greeting)"
      ]
    },
    {
      "cell_type": "code",
      "execution_count": null,
      "metadata": {
        "id": "wiPiYUqkotSX"
      },
      "outputs": [],
      "source": [
        "# 20\n",
        "# Different variants of \n",
        "# variable name\n",
        " \n",
        "# eg:first_name\n",
        " \n",
        "firstname   = 'Coder' #(lowercase)\n",
        "FIRSTNAME   = 'Coder' #(UPPERCASE)        ---> may be constant\n",
        "first_name  = 'Coder' #(snake_case)\n",
        "First_Name  = 'Coder' #(UPPER_SNAKE_CASE) ---> may be constant\n",
        "firstName   = 'Coder' #(camelCase)        ---> javascript\n",
        "FirstName   = 'Coder' #(PascalCase)       ---> java\n",
        "firSTNamE   = 'Coder' #()\n",
        "_first_name = 'Coder' #('_variable name' private variable in python's class)\n",
        "sFirstName  = 'Coder' #(Hungarian)"
      ]
    },
    {
      "cell_type": "code",
      "execution_count": null,
      "metadata": {
        "colab": {
          "base_uri": "https://localhost:8080/"
        },
        "id": "QYIMkhaBsWD-",
        "outputId": "5309ffdf-5c74-468b-e62c-919105584ee8"
      },
      "outputs": [],
      "source": [
        "# 21\n",
        "# for loop\n",
        "for _ in range(5):\n",
        "  print(_)"
      ]
    },
    {
      "cell_type": "code",
      "execution_count": null,
      "metadata": {
        "colab": {
          "base_uri": "https://localhost:8080/"
        },
        "id": "nzJvd-Pqs8Ne",
        "outputId": "e6891791-5977-41cf-f117-e5ed5c3ac9ec"
      },
      "outputs": [],
      "source": [
        "# 22\n",
        "# creating simple function\n",
        "def greeting(name):\n",
        "  print('hello,{}'.format(name))\n",
        " \n",
        "greeting('coder')\n",
        "greeting('python')"
      ]
    },
    {
      "cell_type": "code",
      "execution_count": null,
      "metadata": {
        "colab": {
          "base_uri": "https://localhost:8080/"
        },
        "id": "lSsGnJds0G5K",
        "outputId": "c99b12b3-b34e-4b89-a077-f56c87560696"
      },
      "outputs": [],
      "source": [
        "# 23\n",
        "# Regular function\n",
        "# def sqr(x):\n",
        "#   return x**2\n",
        "\n",
        "# lambda(inline function)\n",
        "# Lambdas (or inline functions) are very handy \n",
        "# if the function body is short and simple. \n",
        "# You don't need to create a full function \n",
        "# using the \"def\" keyword. Use \"lambda\" instead, \n",
        "# followed by the argument and the function body.\n",
        "sqr = lambda x:x**2 # (**) is defined as exponentiation(x^2) operator\n",
        "\n",
        "print(sqr(2))"
      ]
    },
    {
      "cell_type": "code",
      "execution_count": null,
      "metadata": {
        "colab": {
          "base_uri": "https://localhost:8080/"
        },
        "id": "1We_ZNaLO61L",
        "outputId": "415fb531-63bf-4899-c0b8-425ec1110654"
      },
      "outputs": [],
      "source": [
        "# 24\n",
        "# Floating point calculations\n",
        "# are not always precise\n",
        "\n",
        "# it works\n",
        "a = 1.0 + 2.0 - 3.0\n",
        "print(a)\n",
        "\n",
        "from decimal import Decimal\n",
        "b = Decimal('1.0') + Decimal('2.0') - Decimal('3.0')\n",
        "print(b)\n",
        "\n",
        "# it doesn't !\n",
        "ans1= 0.1 + 0.2 - 0.3\n",
        "print(ans1)\n",
        "\n",
        "ans2 = Decimal('0.1') + Decimal('0.2') - Decimal('0.3')\n",
        "print(ans2)"
      ]
    },
    {
      "cell_type": "code",
      "execution_count": null,
      "metadata": {
        "colab": {
          "base_uri": "https://localhost:8080/"
        },
        "id": "s5kuj5XqQovC",
        "outputId": "2ae76de6-5ce9-4c17-b69e-53d06f38dfbc"
      },
      "outputs": [],
      "source": [
        "# 25\n",
        "# going along a list backwards\n",
        "list_25 = ['one', 'two', 'three']\n",
        "\n",
        "print('method_1:')\n",
        "for x in list_25[::-1]:\n",
        "  print(x)\n",
        "  \n",
        "print('method_2:')\n",
        "for x in reversed(list_25):\n",
        "  print(x)"
      ]
    },
    {
      "cell_type": "code",
      "execution_count": null,
      "metadata": {
        "colab": {
          "base_uri": "https://localhost:8080/"
        },
        "id": "yRw5ltNXR552",
        "outputId": "88e4ac0d-794a-41e6-da55-a5815d82eb48"
      },
      "outputs": [],
      "source": [
        "# 26\n",
        "#  be careful while reverse the list\n",
        "\n",
        "list_26=['I','am','a','list']\n",
        "reversed_list = reversed(list_26)\n",
        "print(list_26)  # original order not broken\n",
        "\n",
        "reverse_list = list_26.reverse()\n",
        "print(list_26) # original order was broken"
      ]
    },
    {
      "cell_type": "code",
      "execution_count": null,
      "metadata": {
        "colab": {
          "base_uri": "https://localhost:8080/"
        },
        "id": "QAqunLqrTccK",
        "outputId": "dfcea709-6c7e-4746-efab-42bec3d38ad3"
      },
      "outputs": [],
      "source": [
        "# 27\n",
        "# Creating simple Documentation:\n",
        "def my_f(x):\n",
        "  '''\n",
        "  This is my function, \n",
        "  returns double value \n",
        "  of its argument\n",
        "  '''\n",
        "  return x * 2\n",
        "\n",
        "print(my_f(2))\n",
        "print(my_f.__doc__)"
      ]
    },
    {
      "cell_type": "code",
      "execution_count": null,
      "metadata": {
        "colab": {
          "base_uri": "https://localhost:8080/",
          "height": 363
        },
        "id": "i4TedeQsUjhz",
        "outputId": "defae5a0-7196-4ff0-a26c-b33086025b17"
      },
      "outputs": [],
      "source": [
        "# 28\n",
        "#  the global keyword \n",
        "n = 1\n",
        "\n",
        "def inc_n():\n",
        "  n += 1 # gives error because this n's life only inside the inc_n(),\n",
        "  #  so, here is no init for n\n",
        "\n",
        "print(n)\n",
        "inc_n()\n",
        "print(n)\n"
      ]
    },
    {
      "cell_type": "code",
      "execution_count": null,
      "metadata": {
        "colab": {
          "base_uri": "https://localhost:8080/"
        },
        "id": "jB0PrgZXVTcw",
        "outputId": "53dc104a-638a-42a3-82e2-153c116246b9"
      },
      "outputs": [],
      "source": [
        "# fix\n",
        "n = 1\n",
        "\n",
        "def inc_n():\n",
        "  global n # by doing this \n",
        "  # we specify the above globalLy initialized n = local n(which is inside the inc_n())\n",
        "  n += 1\n",
        "\n",
        "print(n) # before increment\n",
        "inc_n()\n",
        "print(n) # after increment"
      ]
    },
    {
      "cell_type": "code",
      "execution_count": null,
      "metadata": {
        "colab": {
          "base_uri": "https://localhost:8080/"
        },
        "id": "VmlxvQ1xWZHi",
        "outputId": "de587b1a-e41d-4290-9f50-6e656c3fb9e2"
      },
      "outputs": [],
      "source": [
        "# 29\n",
        "# supplying default values for function args\n",
        "def greet(name='Default'):\n",
        "  print(f'hello,{name}')\n",
        "\n",
        "greet('coder')\n",
        "greet()\n",
        "greet('MyName')\n"
      ]
    },
    {
      "cell_type": "code",
      "execution_count": null,
      "metadata": {
        "colab": {
          "base_uri": "https://localhost:8080/"
        },
        "id": "B8dDfpYbaEG6",
        "outputId": "532f4a3f-97a3-48ad-cb7a-1b652ef0ac84"
      },
      "outputs": [],
      "source": [
        "# 30\n",
        "# A function that returns two values\n",
        "def f():\n",
        "  return 10,11\n",
        "\n",
        "a,b=f()\n",
        "print(a)\n",
        "print(b)\n",
        "\n",
        "# what if you only take one ?\n",
        "c=f()\n",
        "print(c)"
      ]
    },
    {
      "cell_type": "code",
      "execution_count": null,
      "metadata": {
        "colab": {
          "base_uri": "https://localhost:8080/"
        },
        "id": "95Lhmu7jbYhU",
        "outputId": "6c77e284-0393-41d7-9d87-e9d84ea7735b"
      },
      "outputs": [],
      "source": [
        "# 31\n",
        "def my_function(a, b):\n",
        "  return a*b\n",
        "\n",
        "# with arguments,(*args => arguments )\n",
        "# you can not change their order,\n",
        "# instead of you should specify the arguments in order\n",
        "# when calling a function\n",
        "print(\"result = \",my_function(2,3)) \n",
        "\n",
        "# with named arguments, (**kwargs=> keyword arguments )\n",
        "# you can change their order when\n",
        "# calling a function\n",
        "print(\"result = \",my_function(b=3,a=2))\n"
      ]
    },
    {
      "cell_type": "code",
      "execution_count": null,
      "metadata": {
        "colab": {
          "base_uri": "https://localhost:8080/"
        },
        "id": "NyeeIqvbwNao",
        "outputId": "361f8369-6856-4a93-9a1f-870342e96930"
      },
      "outputs": [],
      "source": [
        "# 32\n",
        "# args and kwargs\n",
        "# args => arguments () tuple\n",
        "# kwargs => keyword arguments {} dict\n",
        "\n",
        "\n",
        "# args\n",
        "def my_demo(*args):\n",
        "  print('args = ',args) # tuple\n",
        "  for arg in args: # looping that list(args)\n",
        "    print(arg)\n",
        "\n",
        "\n",
        "# args-usage:\n",
        "salary_expected = 10000\n",
        "my_demo('Robert', 'Downey', 'Jr', 21, '2020-mar-19', '+17-83626413', salary_expected)\n",
        "\n",
        "\n",
        "# kwargs\n",
        "def my_demo_2(**kwargs):\n",
        "  print('kwargs = ',kwargs)\n",
        "  for item in kwargs.items(): # looping that dict(kwargs)\n",
        "    print(item)\n",
        "\n",
        "# kwargs-usage:\n",
        "my_demo_2(\n",
        "    first_name = 'Robert',\n",
        "    middle_name = 'Downey',\n",
        "    last_name = 'Jr',\n",
        "    age=21,\n",
        "    d_o_b='2020-mar-19',\n",
        "    phno='+17-83626413',\n",
        "    salary=salary_expected\n",
        ")"
      ]
    },
    {
      "cell_type": "code",
      "execution_count": null,
      "metadata": {
        "colab": {
          "base_uri": "https://localhost:8080/"
        },
        "id": "45BHg5Mw2DOJ",
        "outputId": "f0ff34ea-2166-4357-8057-1d5658410a71"
      },
      "outputs": [],
      "source": [
        "# 33\n",
        "# using args, kwargs and normal arguments \n",
        "# NOTE : args = parameters both are have same meaning\n",
        "\n",
        "def my_demo_3(my_arg,*args,**kwargs):\n",
        "  print('my_args = ',my_arg)\n",
        "  print('args = ',args)\n",
        "  print('kwargs = ',kwargs)\n",
        "\n",
        "my_demo_3('my_arg_value', # my_arg\n",
        "          'Robert',  # args\n",
        "          'Downey',  # args\n",
        "          'Jr',      # args\n",
        "          age=21,                # kwargs\n",
        "          d_o_b='2020-mar-19',   # kwargs\n",
        "          phno='+17-83626413',   # kwargs\n",
        "          salary=salary_expected # kwargs\n",
        "        )"
      ]
    },
    {
      "cell_type": "code",
      "execution_count": null,
      "metadata": {
        "colab": {
          "base_uri": "https://localhost:8080/"
        },
        "id": "2YPlJcF141OC",
        "outputId": "650ef313-b519-4d2e-ae2b-16508ab967f9"
      },
      "outputs": [],
      "source": [
        "# 34\n",
        "# let's try it in another way\n",
        "my_argument = 'my argument value' # you can create like this n no of args\n",
        "# for args\n",
        "list_34 = [1,'this','is','list']\n",
        "# for kwargs\n",
        "dict_34 = {\n",
        "     'first_name': 'Robert',\n",
        "     'middle_name': 'Downey',\n",
        "     'last_name': 'Jr',\n",
        "     'age': 21,\n",
        "     'd_o_b': '2020-mar-19',\n",
        "     'phno': '+17-83626413',\n",
        "     'salary': 10000\n",
        "     }\n",
        "#  using existing function\n",
        "# my_demo_3(my_argument,list_34, dict_34) => if we pass like this then dict_34 will become an args \n",
        "my_demo_3(my_argument,list_34, dict_data=dict_34) #  do like this,because that is 'keword_arguments'"
      ]
    },
    {
      "cell_type": "code",
      "execution_count": null,
      "metadata": {
        "colab": {
          "base_uri": "https://localhost:8080/"
        },
        "id": "cX8Qj0wd6us9",
        "outputId": "f7f495d2-0142-465b-8cca-9a73146ff783"
      },
      "outputs": [],
      "source": [
        "# 35\n",
        "# what if you want a function like\n",
        "# that computes an area of \n",
        "# both square and rectangle\n",
        "def area(width,height=None):\n",
        "  if height == None:\n",
        "    height = width\n",
        "  return width * height\n",
        "\n",
        "print(area(20))\n",
        "print(area(20,30))\n"
      ]
    },
    {
      "cell_type": "code",
      "execution_count": null,
      "metadata": {
        "colab": {
          "base_uri": "https://localhost:8080/"
        },
        "id": "dyIFkUPH7mZ1",
        "outputId": "367a6fdf-dacb-4d94-c4d9-d7d718d66644"
      },
      "outputs": [],
      "source": [
        "# 36\n",
        "# passing a list to a function\n",
        "list_36=[1,2,3,4,5]\n",
        "\n",
        "def f(x):\n",
        "  print(x)\n",
        "  x[2]='TWO'\n",
        "  print(x)\n",
        "\n",
        "f(list_36)"
      ]
    },
    {
      "cell_type": "code",
      "execution_count": null,
      "metadata": {
        "colab": {
          "base_uri": "https://localhost:8080/"
        },
        "id": "mnnPuRdQ8Qi_",
        "outputId": "9aeb64b9-8ed9-442b-b7b0-66c3c3835da4"
      },
      "outputs": [],
      "source": [
        "# 37\n",
        "# a possible implementation\n",
        "# of a non-recursive factorial\n",
        "# calculation for a positive ints\n",
        "\n",
        "# eg: n = 5\n",
        "# computation will be 5*4*3*2*1=120\n",
        "\n",
        "def factorial(n):\n",
        "  f = 1\n",
        "  for m in range(1,n+1): # n+1 because the second parameter will be a limit in this\n",
        "  # if we specify n instead of n+1 then computation will perform only 4*3*2*1 = 24\n",
        "    f*=m\n",
        "  return f\n",
        "\n",
        "print(factorial(5)) #120"
      ]
    },
    {
      "cell_type": "code",
      "execution_count": null,
      "metadata": {
        "colab": {
          "base_uri": "https://localhost:8080/"
        },
        "id": "4Umfqs2x-2DU",
        "outputId": "e5dd2e34-71c4-4d3e-a804-456dac6f4171"
      },
      "outputs": [],
      "source": [
        "# 38\n",
        "# computing a factorial \n",
        "# Using recursion\n",
        "\n",
        "def factorial2(n):\n",
        "  if n > 1:\n",
        "    return n * factorial2(n-1)\n",
        "  else:\n",
        "    return 1\n",
        "\n",
        "print(factorial2(5))\n",
        "print(factorial2(1))\n"
      ]
    },
    {
      "cell_type": "code",
      "execution_count": null,
      "metadata": {
        "colab": {
          "base_uri": "https://localhost:8080/"
        },
        "id": "ehDJxC87_ltS",
        "outputId": "2eee4115-00e3-4776-f986-a868fb7def93"
      },
      "outputs": [],
      "source": [
        "# 39\n",
        "# we can write if else in a single line\n",
        "\n",
        "# regular work\n",
        "\n",
        "# result = 'pass'\n",
        "# if result == 'pass':\n",
        "#   print('Ok')\n",
        "# else:\n",
        "#   print('Not Ok')\n",
        "\n",
        "result ='fail'\n",
        "res = 'Ok' if result == 'pass' else 'Not Ok'\n",
        "print(res)"
      ]
    },
    {
      "cell_type": "code",
      "execution_count": null,
      "metadata": {
        "colab": {
          "base_uri": "https://localhost:8080/",
          "height": 618
        },
        "id": "4HAYFyefAx3l",
        "outputId": "510b9197-74bc-468c-b835-b4e95b28cb56"
      },
      "outputs": [],
      "source": [
        "# 40\n",
        "# simple echo program \n",
        "# imagine like talking tom :)\n",
        "while True:\n",
        "  s=input() # to get input from user\n",
        "  print(s)  # output"
      ]
    },
    {
      "cell_type": "code",
      "execution_count": null,
      "metadata": {
        "colab": {
          "base_uri": "https://localhost:8080/"
        },
        "id": "VkmiOFdGBj4_",
        "outputId": "7e86c3de-c7f3-44ae-a2dc-fb15c75ac446"
      },
      "outputs": [],
      "source": [
        "# 41\n",
        "# error handling\n",
        "while True:\n",
        "  try:\n",
        "    s=input()\n",
        "    print(s)\n",
        "  except:\n",
        "    print('good bye :(')\n",
        "    break"
      ]
    },
    {
      "cell_type": "code",
      "execution_count": null,
      "metadata": {
        "colab": {
          "base_uri": "https://localhost:8080/"
        },
        "id": "W6YvdosLCQ25",
        "outputId": "164fbcde-832b-4ac0-dabf-9fe2cfe09966"
      },
      "outputs": [],
      "source": [
        "# 42\n",
        "# creating & writing txt file \n",
        "f = open('data.txt','w')\n",
        "# or:\n",
        "# f = open(file_name='data.txt',mood='w')\n",
        "# w => create and write\n",
        "# r => read(default)\n",
        "# a => append\n",
        "# x => create if not exist, else raise exception about the file exists\n",
        "f.write( # we can specify multi line string by using single or double quotes like below\n",
        "'''\n",
        "line 1\n",
        "line 2     \n",
        "line 3\n",
        "'''\n",
        ")\n",
        "f.close()\n",
        "# Reading form a text file\n",
        "for line in open('data.txt'):\n",
        "  print(line,end='') # we should specify the end='' to skip the new line creation by print()"
      ]
    },
    {
      "cell_type": "code",
      "execution_count": null,
      "metadata": {
        "id": "CCUXkTO8Ym0l"
      },
      "outputs": [],
      "source": [
        "# let's simplify the above code \n",
        "#  using 'with'\n",
        "with open('data.txt','w') as f:\n",
        "  f.write('hello,world') # the file is overwritten !\n",
        "#  we don't need to close()"
      ]
    },
    {
      "cell_type": "code",
      "execution_count": null,
      "metadata": {
        "colab": {
          "base_uri": "https://localhost:8080/"
        },
        "id": "T4jT0GCTZnpJ",
        "outputId": "24785f67-d860-4894-cf48-ce449011c1ce"
      },
      "outputs": [],
      "source": [
        "# let's test the above code\n",
        "for line in open('data.txt','r'):\n",
        "  print(line)"
      ]
    },
    {
      "cell_type": "code",
      "execution_count": null,
      "metadata": {
        "colab": {
          "base_uri": "https://localhost:8080/"
        },
        "id": "LJrT-5njDChE",
        "outputId": "fa06e8e3-fb73-48ec-fa08-826aaee56828"
      },
      "outputs": [],
      "source": [
        "# 43\n",
        "# Creating a class in python\n",
        "class Animal:\n",
        "  def talk(self): # self is the instance Object\n",
        "    print('I am an animal')\n",
        "  \n",
        "# Creating an object to that class\n",
        "animal1 = Animal()\n",
        "animal1.talk()\n",
        "\n",
        "# Creating another Animal\n",
        "animal2 = Animal()\n",
        "animal2.talk()"
      ]
    },
    {
      "cell_type": "code",
      "execution_count": null,
      "metadata": {
        "colab": {
          "base_uri": "https://localhost:8080/"
        },
        "id": "POor84-8GldW",
        "outputId": "b4f87a07-8c55-4ae2-d862-1bb5f8b6fe6f"
      },
      "outputs": [],
      "source": [
        "# 44 \n",
        "# Using attributes to keep data\n",
        "# class\n",
        "#    attribute\n",
        "#    method\n",
        "\n",
        "\n",
        "class Bird:\n",
        "  def __init__(self,name): #Constructor\n",
        "    self.name = name # class attribute\n",
        "  def talk(self):    # class method\n",
        "    print('my name is '+self.name)\n",
        "\n",
        "parrot = Bird('Parrot')\n",
        "parrot.talk()\n"
      ]
    },
    {
      "cell_type": "code",
      "execution_count": null,
      "metadata": {
        "id": "1hEhwHLxIKhr"
      },
      "outputs": [],
      "source": [
        "# 45\n",
        "# Counting class objects\n",
        "class Item:\n",
        "  counter = 0 # class-level counter(Item.counter)\n",
        "  def __init__(self):\n",
        "    Item.counter+=1\n",
        "    self.counter=Item.counter # instance-level attribute(self.counter)\n",
        "  def my_number(self):\n",
        "    return self.counter\n",
        "\n",
        "for _ in range(5):\n",
        "  objectN = Item() # looping to create n number of object to the class \n",
        "  print('My number is '+str(objectN.my_number()))\n"
      ]
    },
    {
      "cell_type": "code",
      "execution_count": null,
      "metadata": {
        "colab": {
          "base_uri": "https://localhost:8080/"
        },
        "id": "GzBUDdc1KEOm",
        "outputId": "8c7b4130-1c70-4797-dbce-337ef22f9680"
      },
      "outputs": [],
      "source": [
        "# 46\n",
        "# Adding annotation to a function\n",
        "\n",
        "def power(a: int, b : int)->int:\n",
        "  return a ** b\n",
        "\n",
        "print(power(2,2))\n",
        "print(power.__annotations__)"
      ]
    },
    {
      "cell_type": "code",
      "execution_count": null,
      "metadata": {
        "colab": {
          "base_uri": "https://localhost:8080/"
        },
        "id": "Zh_AGg0GK3D8",
        "outputId": "2ec5fa18-54b9-467c-cb9d-0c5596e52a2c"
      },
      "outputs": [],
      "source": [
        "# 47\n",
        "# Custom Object formating\n",
        "class Values:\n",
        "  def __init__(self,value):\n",
        "    self.value = value\n",
        "\n",
        "obj=Values(10)\n",
        "print(obj)"
      ]
    },
    {
      "cell_type": "code",
      "execution_count": null,
      "metadata": {
        "colab": {
          "base_uri": "https://localhost:8080/"
        },
        "id": "9Pbf5NIrMwvr",
        "outputId": "c054c052-fcd9-4613-c097-ec7652139e55"
      },
      "outputs": [],
      "source": [
        "class Values:\n",
        "\n",
        "  def __init__(self,value):\n",
        "    self.value = value\n",
        "\n",
        "  def __str__(self):        #custom formating\n",
        "    return str(self.value)\n",
        "\n",
        "obj=Values(10)\n",
        "print(obj)"
      ]
    },
    {
      "cell_type": "code",
      "execution_count": null,
      "metadata": {
        "colab": {
          "base_uri": "https://localhost:8080/"
        },
        "id": "GEEQYuxDNCRW",
        "outputId": "284af006-6448-4970-f320-8a4a4f026e65"
      },
      "outputs": [],
      "source": [
        "# 48\n",
        "# Using iterators\n",
        "\n",
        "list_48 = ['alpha','beta','gamma']\n",
        "\n",
        "data = iter(list_48)\n",
        "print('data = ',data)\n",
        "\n",
        "a = next(data)\n",
        "print('a = ',a)\n",
        "\n",
        "b = next(data)\n",
        "print('b = ',b)\n",
        "\n",
        "c =  next(data)\n",
        "print('c = ',c)"
      ]
    },
    {
      "cell_type": "code",
      "execution_count": null,
      "metadata": {
        "colab": {
          "base_uri": "https://localhost:8080/"
        },
        "id": "u_xi4VF7N_l7",
        "outputId": "e71b4b76-5f5a-475f-9cd8-86661b0c0687"
      },
      "outputs": [],
      "source": [
        "# 49\n",
        "# Using yield\n",
        "# This keyword, \"yield\", is maybe the least intuitive in Python.\n",
        "# You place it where you would normally place a \"return\" in a function.\n",
        "# But with \"yield\", the function can be converted into a generator object \n",
        "# that keeps its state between calls. In the given example, the f() function \n",
        "# returns (yields) another number from the range each time you call it. \n",
        "# The next time you call it, the \"i\" variable continues from where it was last time.\n",
        "\n",
        "def f():\n",
        "  for i in range(100):\n",
        "    yield i \n",
        "\n",
        "g = f() # generator object\n",
        "\n",
        "print(next(g))\n",
        "print(next(g))\n",
        "print(next(g))\n",
        "print(next(g))\n",
        "print(next(g))"
      ]
    },
    {
      "cell_type": "code",
      "execution_count": null,
      "metadata": {
        "colab": {
          "base_uri": "https://localhost:8080/"
        },
        "id": "HXF68wJsPVoL",
        "outputId": "5450393a-93b9-484b-dc8a-ca9d35143bbc"
      },
      "outputs": [],
      "source": [
        "# 50\n",
        "# what if we have like below:\n",
        "\n",
        "g1 = f()\n",
        "g2 = f()\n",
        "\n",
        "print(next(g1))\n",
        "print(next(g2))\n",
        "print(next(g1))\n",
        "print(next(g2))\n",
        "print(next(g1))\n",
        "print(next(g2))"
      ]
    },
    {
      "cell_type": "code",
      "execution_count": null,
      "metadata": {
        "colab": {
          "base_uri": "https://localhost:8080/",
          "height": 363
        },
        "id": "_OM2HzFWT2bx",
        "outputId": "70db345e-661e-4859-f99d-aecc66827c2d"
      },
      "outputs": [],
      "source": [
        "# 51\n",
        "#  assert used to break the program \n",
        "#  if given data is wrong\n",
        "\n",
        "def divide(x, y):\n",
        "  assert y!=0 # validating\n",
        "  return x/y\n",
        "\n",
        "a = divide(100,10) # Ok\n",
        "print(a)\n",
        "\n",
        "b = divide(100,0) # Not Ok\n",
        "print(b)"
      ]
    },
    {
      "cell_type": "code",
      "execution_count": null,
      "metadata": {
        "colab": {
          "base_uri": "https://localhost:8080/"
        },
        "id": "29On6q3FVAgF",
        "outputId": "407198a0-547e-46ab-9ae9-d3e9f80b5c6b"
      },
      "outputs": [],
      "source": [
        "# gererate a non-repeater random ints\n",
        "from random import randint\n",
        "\n",
        "data = set() # we are using set() to avoid the duplication \n",
        "\n",
        "n = 0\n",
        "while n < 20:\n",
        "  r = randint(0, 100)\n",
        "  n+=1\n",
        "  data.add(r)\n",
        "\n",
        "print(len(data))\n",
        "print(data)"
      ]
    }
  ],
  "metadata": {
    "colab": {
      "authorship_tag": "ABX9TyN3L2Wy2UlmVJ0Fr54BJUFi",
      "collapsed_sections": [],
      "name": "Python3-v1.ipynb",
      "provenance": []
    },
    "kernelspec": {
      "display_name": "Python 3",
      "name": "python3"
    },
    "language_info": {
      "codemirror_mode": {
        "name": "ipython",
        "version": 3
      },
      "file_extension": ".py",
      "mimetype": "text/x-python",
      "name": "python",
      "nbconvert_exporter": "python",
      "pygments_lexer": "ipython3",
      "version": "3.9.7"
    }
  },
  "nbformat": 4,
  "nbformat_minor": 0
}
