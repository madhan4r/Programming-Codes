{
 "cells": [
  {
   "cell_type": "code",
   "execution_count": null,
   "metadata": {},
   "outputs": [],
   "source": [
    "class Solution:\n",
    "    def addDigits(self, num: int) -> int:\n",
    "        if num == 0: return 0\n",
    "        return 9 if num % 9 == 0 else num % 9\n",
    "        \n",
    "\n",
    "obj1 = Solution()\n",
    "print(obj1.addDigits(77))"
   ]
  },
  {
   "cell_type": "code",
   "execution_count": null,
   "metadata": {},
   "outputs": [],
   "source": [
    "class Solution:\n",
    "    def addDigits(self, num: int) -> int:\n",
    "        temp = 0;\n",
    "        while num > 0:\n",
    "            temp += num % 10\n",
    "            num = num // 10\n",
    "            if(num == 0 and temp > 9):\n",
    "                num = temp\n",
    "                temp = 0\n",
    "        return temp\n",
    "\n",
    "\n",
    "obj1 = Solution()\n",
    "print(obj1.addDigits(77))"
   ]
  },
  {
   "cell_type": "code",
   "execution_count": null,
   "metadata": {},
   "outputs": [],
   "source": [
    "class Solution:\n",
    "    def addDigits(self, num: int) -> int:\n",
    "        return 1 + (num - 1) % 9 if num else 0\n",
    "        \n",
    "\n",
    "obj1 = Solution()\n",
    "print(obj1.addDigits(47))"
   ]
  },
  {
   "cell_type": "code",
   "execution_count": null,
   "metadata": {},
   "outputs": [],
   "source": [
    "a = 128\n",
    "def add(a: int) -> int:\n",
    "    iter = str(a)\n",
    "    res = []\n",
    "    print(f\"given num: {iter}\")\n",
    "    for number in iter:\n",
    "        res.append(int(number))\n",
    "    sum_of_res = sum(res)\n",
    "    print(f\"sum of the given number: {sum_of_res}\")\n",
    "    length = len((str(sum_of_res)))\n",
    "    print(f\"len of the sum: {length}\")\n",
    "    if length > 1:\n",
    "        return add(sum_of_res)\n",
    "    else:\n",
    "        return sum_of_res\n",
    "%time\n",
    "add(a=a)"
   ]
  },
  {
   "cell_type": "code",
   "execution_count": null,
   "metadata": {},
   "outputs": [],
   "source": [
    "def function(nums, target):\n",
    "    for i, x in enumerate(nums):\n",
    "        for y in nums[i+1:]:\n",
    "            if x + y == target:\n",
    "                return [x, y]\n",
    "\n",
    "\n",
    "function(nums=[3, 2, 4], target=6)\n"
   ]
  },
  {
   "cell_type": "code",
   "execution_count": null,
   "metadata": {},
   "outputs": [],
   "source": [
    "class Solution(object):\n",
    "    def twoSum(self, nums, target):\n",
    "        \"\"\"\n",
    "        :type nums: List[int]\n",
    "        :type target: int\n",
    "        :rtype: List[int]\n",
    "        \"\"\"\n",
    "        nums_idx = {}\n",
    "        for i in range(0, len(nums)):\n",
    "            nums_to_find = target - nums[i]\n",
    "            if nums_to_find in nums_idx:\n",
    "                return [i, nums_idx[nums_to_find]]\n",
    "            nums_idx[nums[i]] = i\n",
    "\n",
    "obj1 = Solution()\n",
    "obj1.twoSum([1,2,3,4,5,6], 10)"
   ]
  },
  {
   "cell_type": "code",
   "execution_count": null,
   "metadata": {},
   "outputs": [],
   "source": [
    "class Solution(object):\n",
    "    def twoSum(self, nums, target):\n",
    "        \"\"\"\n",
    "        :type nums: List[int]\n",
    "        :type target: int\n",
    "        :rtype: List[int]\n",
    "        \"\"\"\n",
    "        nums_idx = []\n",
    "        for i in range(0, len(nums)):\n",
    "            nums_to_find = target - nums[i]\n",
    "            if nums_to_find in nums_idx:\n",
    "                return [i, nums.index(nums_to_find)]\n",
    "            nums_idx.append(nums[i])\n",
    "\n",
    "\n",
    "obj1 = Solution()\n",
    "print(obj1.twoSum([3, 2, 4], 6))\n"
   ]
  },
  {
   "cell_type": "code",
   "execution_count": null,
   "metadata": {},
   "outputs": [],
   "source": [
    "def palindrome(n) -> bool:\n",
    "    temp, tot = n, 0\n",
    "    if n < 0:\n",
    "        return False\n",
    "    while(n > 0):\n",
    "        tot = tot*10+(n % 10)\n",
    "        n //=10\n",
    "    return True if tot == temp else False\n",
    "\n",
    "palindrome(929)"
   ]
  },
  {
   "cell_type": "code",
   "execution_count": null,
   "metadata": {},
   "outputs": [],
   "source": [
    "def isPalindrome(x: int):\n",
    "    # If x is a negative number it is not a palindrome\n",
    "    # If x % 10 = 0, in order for it to be a palindrome the first digit should also be 0\n",
    "    if x < 0 or (x > 0 and x % 10 == 0):\n",
    "        return False\n",
    "\n",
    "    reversedNum = 0\n",
    "    while x > reversedNum:\n",
    "        reversedNum = reversedNum * 10 + x % 10\n",
    "        x = x // 10\n",
    "\n",
    "    # If x is equal to reversed number then it is a palindrome\n",
    "    # If x has odd number of digits, discard the middle digit before comparing with x\n",
    "    # Example, if x = 23132, at the end of for loop x = 23 and reversedNum = 231\n",
    "    # So, reversedNum/10 = 23, which is equal to x\n",
    "    return True if (x == reversedNum or x == reversedNum // 10) else False\n",
    "\n",
    "\n",
    "print(isPalindrome(32123))\n"
   ]
  },
  {
   "cell_type": "code",
   "execution_count": null,
   "metadata": {},
   "outputs": [],
   "source": [
    "def romanToInt(s: str):\n",
    "    romans = {'I': 1, 'V': 5, 'X': 10, 'L': 50, 'C': 100, 'D': 500, 'M': 1000}\n",
    "    val = 0\n",
    "    while(len(s)):\n",
    "        if len(s) > 1 and (s[0] == 'I' and s[1] == 'V' or s[0] == 'I' and s[1] == 'X'\n",
    "           or s[0] == 'X' and s[1] == 'L' or s[0] == 'X' and s[1] == 'C'\n",
    "           or s[0] == 'C' and s[1] == 'D' or s[0] == 'C' and s[1] == 'M'):\n",
    "            val += romans[s[1]] - romans[s[0]]\n",
    "            s = s[2:]\n",
    "        else:\n",
    "            val += romans[s[0]]\n",
    "            s = s[1:]\n",
    "\n",
    "    return val\n",
    "\n",
    "\n",
    "print(romanToInt('MMMXLV'))\n"
   ]
  },
  {
   "cell_type": "code",
   "execution_count": 2,
   "metadata": {},
   "outputs": [],
   "source": [
    "from typing import List\n",
    "def longestCommonPrefix(self, strs: List[str] = [\"flower\",\"flow\",\"flight\"]) -> str:\n",
    "    pass"
   ]
  },
  {
   "cell_type": "code",
   "execution_count": 6,
   "metadata": {},
   "outputs": [
    {
     "name": "stdout",
     "output_type": "stream",
     "text": [
      "1\n",
      "3\n",
      "6\n",
      "10\n"
     ]
    }
   ],
   "source": [
    "def runningSum(nums: List[int] = [1, 2, 3, 4]):\n",
    "    for i in range(0, len(nums)):\n",
    "        yield(sum(nums[:i+1]))\n",
    "\n",
    "\n",
    "for i in runningSum():\n",
    "    print(i)\n"
   ]
  },
  {
   "cell_type": "code",
   "execution_count": null,
   "metadata": {},
   "outputs": [],
   "source": []
  }
 ],
 "metadata": {
  "interpreter": {
   "hash": "2647ea34e536f865ab67ff9ddee7fd78773d956cec0cab53c79b32cd10da5d83"
  },
  "kernelspec": {
   "display_name": "Python 3.9.7 64-bit",
   "language": "python",
   "name": "python3"
  },
  "language_info": {
   "codemirror_mode": {
    "name": "ipython",
    "version": 3
   },
   "file_extension": ".py",
   "mimetype": "text/x-python",
   "name": "python",
   "nbconvert_exporter": "python",
   "pygments_lexer": "ipython3",
   "version": "3.9.7"
  },
  "orig_nbformat": 4
 },
 "nbformat": 4,
 "nbformat_minor": 2
}
